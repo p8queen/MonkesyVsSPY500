{
 "cells": [
  {
   "cell_type": "code",
   "execution_count": 4,
   "id": "9fa8b207-e409-4389-a341-d459dfc3fa79",
   "metadata": {},
   "outputs": [],
   "source": [
    "from pandas_datareader import data as pdr\n",
    "from datetime import date\n",
    "import yfinance as yf\n",
    "yf.pdr_override()\n",
    "import pandas as pd\n",
    "import numpy as np\n",
    "import random \n",
    "\n",
    "import math"
   ]
  },
  {
   "cell_type": "code",
   "execution_count": 5,
   "id": "5e75ec44-df6b-4a52-93a7-ce921c33d63e",
   "metadata": {},
   "outputs": [
    {
     "name": "stdout",
     "output_type": "stream",
     "text": [
      "[*********************100%***********************]  1 of 1 completed\n"
     ]
    }
   ],
   "source": [
    "today = date.today()\n",
    "ticker = 'SPY'\n",
    "start_date = '2019-01-02'\n",
    "end = today\n",
    "df = pdr.get_data_yahoo(ticker, start=start_date, end=today)"
   ]
  },
  {
   "cell_type": "code",
   "execution_count": 6,
   "id": "da2f8456-2887-4fa7-aefc-a75f51a62f4c",
   "metadata": {},
   "outputs": [
    {
     "data": {
      "text/html": [
       "<div>\n",
       "<style scoped>\n",
       "    .dataframe tbody tr th:only-of-type {\n",
       "        vertical-align: middle;\n",
       "    }\n",
       "\n",
       "    .dataframe tbody tr th {\n",
       "        vertical-align: top;\n",
       "    }\n",
       "\n",
       "    .dataframe thead th {\n",
       "        text-align: right;\n",
       "    }\n",
       "</style>\n",
       "<table border=\"1\" class=\"dataframe\">\n",
       "  <thead>\n",
       "    <tr style=\"text-align: right;\">\n",
       "      <th></th>\n",
       "      <th>Open</th>\n",
       "      <th>High</th>\n",
       "      <th>Low</th>\n",
       "      <th>Close</th>\n",
       "      <th>Adj Close</th>\n",
       "      <th>Volume</th>\n",
       "    </tr>\n",
       "    <tr>\n",
       "      <th>Date</th>\n",
       "      <th></th>\n",
       "      <th></th>\n",
       "      <th></th>\n",
       "      <th></th>\n",
       "      <th></th>\n",
       "      <th></th>\n",
       "    </tr>\n",
       "  </thead>\n",
       "  <tbody>\n",
       "    <tr>\n",
       "      <th>2019-01-02</th>\n",
       "      <td>245.979996</td>\n",
       "      <td>251.210007</td>\n",
       "      <td>245.949997</td>\n",
       "      <td>250.179993</td>\n",
       "      <td>237.858902</td>\n",
       "      <td>126925200</td>\n",
       "    </tr>\n",
       "    <tr>\n",
       "      <th>2019-01-03</th>\n",
       "      <td>248.229996</td>\n",
       "      <td>248.570007</td>\n",
       "      <td>243.669998</td>\n",
       "      <td>244.210007</td>\n",
       "      <td>232.182892</td>\n",
       "      <td>144140700</td>\n",
       "    </tr>\n",
       "    <tr>\n",
       "      <th>2019-01-04</th>\n",
       "      <td>247.589996</td>\n",
       "      <td>253.110001</td>\n",
       "      <td>247.169998</td>\n",
       "      <td>252.389999</td>\n",
       "      <td>239.960052</td>\n",
       "      <td>142628800</td>\n",
       "    </tr>\n",
       "    <tr>\n",
       "      <th>2019-01-07</th>\n",
       "      <td>252.690002</td>\n",
       "      <td>255.949997</td>\n",
       "      <td>251.690002</td>\n",
       "      <td>254.380005</td>\n",
       "      <td>241.852005</td>\n",
       "      <td>103139100</td>\n",
       "    </tr>\n",
       "    <tr>\n",
       "      <th>2019-01-08</th>\n",
       "      <td>256.820007</td>\n",
       "      <td>257.309998</td>\n",
       "      <td>254.000000</td>\n",
       "      <td>256.769989</td>\n",
       "      <td>244.124298</td>\n",
       "      <td>102512600</td>\n",
       "    </tr>\n",
       "    <tr>\n",
       "      <th>...</th>\n",
       "      <td>...</td>\n",
       "      <td>...</td>\n",
       "      <td>...</td>\n",
       "      <td>...</td>\n",
       "      <td>...</td>\n",
       "      <td>...</td>\n",
       "    </tr>\n",
       "    <tr>\n",
       "      <th>2022-01-10</th>\n",
       "      <td>462.700012</td>\n",
       "      <td>465.739990</td>\n",
       "      <td>456.600006</td>\n",
       "      <td>465.510010</td>\n",
       "      <td>465.510010</td>\n",
       "      <td>119362000</td>\n",
       "    </tr>\n",
       "    <tr>\n",
       "      <th>2022-01-11</th>\n",
       "      <td>465.230011</td>\n",
       "      <td>469.850006</td>\n",
       "      <td>462.049988</td>\n",
       "      <td>469.750000</td>\n",
       "      <td>469.750000</td>\n",
       "      <td>74303100</td>\n",
       "    </tr>\n",
       "    <tr>\n",
       "      <th>2022-01-12</th>\n",
       "      <td>471.589996</td>\n",
       "      <td>473.200012</td>\n",
       "      <td>468.940002</td>\n",
       "      <td>471.019989</td>\n",
       "      <td>471.019989</td>\n",
       "      <td>67605400</td>\n",
       "    </tr>\n",
       "    <tr>\n",
       "      <th>2022-01-13</th>\n",
       "      <td>472.190002</td>\n",
       "      <td>472.880005</td>\n",
       "      <td>463.440002</td>\n",
       "      <td>464.529999</td>\n",
       "      <td>464.529999</td>\n",
       "      <td>91173100</td>\n",
       "    </tr>\n",
       "    <tr>\n",
       "      <th>2022-01-14</th>\n",
       "      <td>461.190002</td>\n",
       "      <td>465.089996</td>\n",
       "      <td>459.899994</td>\n",
       "      <td>464.720001</td>\n",
       "      <td>464.720001</td>\n",
       "      <td>95849600</td>\n",
       "    </tr>\n",
       "  </tbody>\n",
       "</table>\n",
       "<p>767 rows × 6 columns</p>\n",
       "</div>"
      ],
      "text/plain": [
       "                  Open        High         Low       Close   Adj Close  \\\n",
       "Date                                                                     \n",
       "2019-01-02  245.979996  251.210007  245.949997  250.179993  237.858902   \n",
       "2019-01-03  248.229996  248.570007  243.669998  244.210007  232.182892   \n",
       "2019-01-04  247.589996  253.110001  247.169998  252.389999  239.960052   \n",
       "2019-01-07  252.690002  255.949997  251.690002  254.380005  241.852005   \n",
       "2019-01-08  256.820007  257.309998  254.000000  256.769989  244.124298   \n",
       "...                ...         ...         ...         ...         ...   \n",
       "2022-01-10  462.700012  465.739990  456.600006  465.510010  465.510010   \n",
       "2022-01-11  465.230011  469.850006  462.049988  469.750000  469.750000   \n",
       "2022-01-12  471.589996  473.200012  468.940002  471.019989  471.019989   \n",
       "2022-01-13  472.190002  472.880005  463.440002  464.529999  464.529999   \n",
       "2022-01-14  461.190002  465.089996  459.899994  464.720001  464.720001   \n",
       "\n",
       "               Volume  \n",
       "Date                   \n",
       "2019-01-02  126925200  \n",
       "2019-01-03  144140700  \n",
       "2019-01-04  142628800  \n",
       "2019-01-07  103139100  \n",
       "2019-01-08  102512600  \n",
       "...               ...  \n",
       "2022-01-10  119362000  \n",
       "2022-01-11   74303100  \n",
       "2022-01-12   67605400  \n",
       "2022-01-13   91173100  \n",
       "2022-01-14   95849600  \n",
       "\n",
       "[767 rows x 6 columns]"
      ]
     },
     "execution_count": 6,
     "metadata": {},
     "output_type": "execute_result"
    }
   ],
   "source": [
    "df"
   ]
  },
  {
   "cell_type": "code",
   "execution_count": 25,
   "id": "929d8cf6-c268-4b8a-a112-416805f5e1b2",
   "metadata": {},
   "outputs": [],
   "source": [
    "r = random.randint(-df.shape[0], -201) #get an integer N: -df.shape[0]<= N <= -201\n",
    "aclose = np.array(df.Close[r:r+201]) #select 201 close from a random position\n"
   ]
  },
  {
   "cell_type": "code",
   "execution_count": 26,
   "id": "ecf6cfc2-3b19-42dc-a911-c2ae1d36ec85",
   "metadata": {},
   "outputs": [
    {
     "data": {
      "image/png": "[encoded data removed]",
      "text/plain": [
       "<Figure size 1440x720 with 1 Axes>"
      ]
     },
     "metadata": {
      "needs_background": "light"
     },
     "output_type": "display_data"
    }
   ],
   "source": [
    "import matplotlib.pyplot as plt\n",
    "#setting figure size\n",
    "from matplotlib.pylab import rcParams\n",
    "rcParams['figure.figsize'] = 20,10\n",
    "\n",
    "X = [x for x in range(0,aclose.shape[0])]\n",
    "y = aclose\n",
    "plt.plot(X,y, linewidth=1, color='b', label='Close')\n",
    "plt.legend()\n",
    "plt.show();"
   ]
  },
  {
   "cell_type": "code",
   "execution_count": 27,
   "id": "b8fb7717-54e0-4b5d-894e-994620b80205",
   "metadata": {},
   "outputs": [
    {
     "data": {
      "text/plain": [
       "array([[2, 1, 2, ..., 0, 2, 2],\n",
       "       [0, 1, 1, ..., 2, 2, 1],\n",
       "       [2, 1, 0, ..., 2, 0, 2],\n",
       "       ...,\n",
       "       [1, 1, 2, ..., 1, 1, 1],\n",
       "       [0, 1, 1, ..., 1, 0, 0],\n",
       "       [1, 2, 0, ..., 2, 0, 0]])"
      ]
     },
     "execution_count": 27,
     "metadata": {},
     "output_type": "execute_result"
    }
   ],
   "source": [
    "# vr rows is a population of monkeys, columns are bets\n",
    "# 0 no bet, 1 open, 2 close all the previous open positions\n",
    "vr = np.random.randint(3, size=(80, 40))\n",
    "vr"
   ]
  },
  {
   "cell_type": "code",
   "execution_count": 35,
   "id": "7110d5cf-f08e-4494-a0f3-a71194b7f085",
   "metadata": {},
   "outputs": [
    {
     "data": {
      "text/plain": [
       "array([[-25.8699646 , -48.50997925, -36.40002441, ...,  54.6000061 ,\n",
       "         73.01000977,   8.09002686],\n",
       "       [  6.67001343,  -9.23999023,   3.39007568, ...,  49.        ,\n",
       "         15.33999634,  22.38000488],\n",
       "       [ 21.00991821, -24.87994385,  11.61993408, ...,   1.4598999 ,\n",
       "         25.30001831,   2.69998169],\n",
       "       ...,\n",
       "       [-10.24008179,  -9.53997803,  -7.74005127, ...,  46.6100769 ,\n",
       "         38.90005493,  11.5       ],\n",
       "       [-28.92004395,  21.45993042, -11.14004517, ...,  26.25003052,\n",
       "         27.58990479,  12.58996582],\n",
       "       [ -9.63995361,  32.14996338, -14.1499939 , ..., -27.88989258,\n",
       "         49.65994263,   6.69006348]])"
      ]
     },
     "execution_count": 35,
     "metadata": {},
     "output_type": "execute_result"
    }
   ],
   "source": [
    "def calcFitness(v, j):\n",
    "    balance = 0.0\n",
    "    total = 0.0\n",
    "    buy = False\n",
    "    vc = np.empty([0]) \n",
    "    i=0\n",
    "    while i<vr.shape[1]:\n",
    "        if v[i]==1:\n",
    "            vc = np.concatenate( (vc,[aclose[j+i]]) )\n",
    "            buy = True\n",
    "        if v[i]==2 and buy:\n",
    "            balance = aclose[j+i] - vc\n",
    "            total = total + sum(balance)\n",
    "            buy = False\n",
    "            vc = np.empty([0])\n",
    "        i = i+1\n",
    "    if buy:\n",
    "        balance = aclose[j+i] - vc\n",
    "        total = total + sum(balance)\n",
    "        buy = False\n",
    "    return total\n",
    "\n",
    "\n",
    "vtot = np.empty([0,vr.shape[0]])\n",
    "#bot bets 40 times for each z\n",
    "#vfit get total of each set of bets\n",
    "#vtot has 100 rows of 80 totals of bets\n",
    "for z in range(100):\n",
    "    vfit = [(calcFitness(e, z),e) for e in vr]\n",
    "    vtot = np.concatenate( (vtot,[[a for (a,b) in vfit]]) )\n",
    "vtot\n"
   ]
  },
  {
   "cell_type": "code",
   "execution_count": 36,
   "id": "1f9a09d8-64ba-4156-8b04-fe6b537f84e5",
   "metadata": {},
   "outputs": [
    {
     "data": {
      "text/plain": [
       "(array([1202.71987915, 1834.52987671, 1536.63983154, 2962.15982056,\n",
       "        2233.76989746, 2233.08978271, 3725.72973633, 1440.72976685,\n",
       "        1680.37997437, 1724.98986816, 3255.04937744, 3694.2796936 ,\n",
       "        1676.20983887, 2556.51992798, 1418.42984009, 1499.48986816,\n",
       "        1898.52981567, 2574.43981934, 1229.13986206, 1433.62008667,\n",
       "        2287.42984009,  878.96990967, 2361.95986938, 1023.10995483,\n",
       "        1331.23986816,  943.39990234, 3884.10968018, 1531.38998413,\n",
       "        2818.51971436, 1284.74996948, 3200.62002563, 1176.1499939 ,\n",
       "        1737.01983643, 2390.7696228 , 1147.84997559, 1547.46005249,\n",
       "        1591.88986206, 1310.85992432,  984.3399353 , 1654.12994385,\n",
       "        4091.36968994, 1365.44998169, 1054.21990967, 2266.79977417,\n",
       "        2010.47970581, 2111.87985229,  894.82998657, 2610.72979736,\n",
       "        2151.60983276, 1467.30987549, 2607.97982788, 2255.97988892,\n",
       "        1377.07980347, 1187.34979248, 1639.30987549, 1753.08981323,\n",
       "        1713.49972534, 1156.8999939 , 1169.07992554, 1012.17004395,\n",
       "         783.29998779, 2118.73980713, 2716.70001221, 4166.57965088,\n",
       "        1954.66976929, 3696.18978882,  731.32992554, 3015.30984497,\n",
       "        2086.17977905, 1465.06991577, 1675.17996216,  772.47988892,\n",
       "        4356.95968628, 1274.97991943, 1779.91992188, 1104.44998169,\n",
       "        1232.97998047, 1968.25006104, 2246.55981445,  660.42999268]),\n",
       " 152599.7892150879)"
      ]
     },
     "execution_count": 36,
     "metadata": {},
     "output_type": "execute_result"
    }
   ],
   "source": [
    "#show 80 totals, final profit\n",
    "np.sum(vtot, axis=0), np.sum(vtot)"
   ]
  },
  {
   "cell_type": "code",
   "execution_count": 41,
   "id": "166b0de7-f134-4c3d-9007-346e3d18e4e0",
   "metadata": {},
   "outputs": [
    {
     "name": "stdout",
     "output_type": "stream",
     "text": [
      "$152,599.79\n"
     ]
    }
   ],
   "source": [
    "profit = \"${:,.2f}\". format( np.sum(vtot) )\n",
    "print('profit'profit)\n"
   ]
  }
 ],
 "metadata": {
  "kernelspec": {
   "display_name": "Python 3 (ipykernel)",
   "language": "python",
   "name": "python3"
  },
  "language_info": {
   "codemirror_mode": {
    "name": "ipython",
    "version": 3
   },
   "file_extension": ".py",
   "mimetype": "text/x-python",
   "name": "python",
   "nbconvert_exporter": "python",
   "pygments_lexer": "ipython3",
   "version": "3.8.10"
  }
 },
 "nbformat": 4,
 "nbformat_minor": 5
}
